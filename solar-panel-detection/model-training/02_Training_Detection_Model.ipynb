{
 "cells": [
  {
   "cell_type": "markdown",
   "metadata": {
    "id": "TKjSq9hCsNSR"
   },
   "source": [
    "Data Preprocessing || `Model Training` || Streamlit App\n",
    "\n",
    "---\n",
    "# Solar Up -- Solar Panel Object Detection and Segmentation\n",
    "\n",
    "WBS Coding School || Data Science Bootcamp || Final Project\n",
    "\n",
    "---\n",
    "<br>\n",
    "\n",
    "**Use Google's GPU** to run this script to substantially reduce training time.\n",
    "\n",
    "(Next to \"Connection\" -> Click arrow -> \"Change runtime type\" -> choose a GPU, e.g. \"T4 GPU\")\n"
   ]
  },
  {
   "cell_type": "markdown",
   "metadata": {
    "id": "KOAJ56Iveibj"
   },
   "source": [
    "### Table of Contents\n",
    "- [1. Download Data](#download)\n",
    "- [2. Model Training](#training)\n",
    "- [3. Export Model Weights](#export)"
   ]
  },
  {
   "cell_type": "markdown",
   "metadata": {
    "id": "N3tOKkoQq-V8"
   },
   "source": [
    "#### Libraries\n",
    "\n"
   ]
  },
  {
   "cell_type": "code",
   "execution_count": null,
   "metadata": {
    "colab": {
     "base_uri": "https://localhost:8080/"
    },
    "executionInfo": {
     "elapsed": 83409,
     "status": "ok",
     "timestamp": 1710493592426,
     "user": {
      "displayName": "solar",
      "userId": "07318993727761992414"
     },
     "user_tz": -60
    },
    "id": "j2mHHI4pq8Za",
    "outputId": "d9f09387-534b-419d-ee90-2c3474fe2a0b"
   },
   "outputs": [],
   "source": [
    "# ultralytics is the package you need for YOLOv8.\n",
    "%pip install ultralytics"
   ]
  },
  {
   "cell_type": "code",
   "execution_count": null,
   "metadata": {
    "colab": {
     "base_uri": "https://localhost:8080/"
    },
    "executionInfo": {
     "elapsed": 7219,
     "status": "ok",
     "timestamp": 1710493599641,
     "user": {
      "displayName": "solar",
      "userId": "07318993727761992414"
     },
     "user_tz": -60
    },
    "id": "0OsLdpLWq-uj",
    "outputId": "b87d5bdf-66b3-400c-d426-b3dda8520ff9"
   },
   "outputs": [],
   "source": [
    "# Update gdown for full functionality.\n",
    "%pip install --upgrade gdown"
   ]
  },
  {
   "cell_type": "code",
   "execution_count": null,
   "metadata": {
    "id": "5bhhW8Myq69l"
   },
   "outputs": [],
   "source": [
    "import os\n",
    "import shutil\n",
    "import torch\n",
    "\n",
    "import ultralytics\n",
    "from ultralytics import YOLO\n",
    "from ultralytics import settings\n",
    "\n",
    "from google.colab import files, drive"
   ]
  },
  {
   "cell_type": "markdown",
   "metadata": {
    "id": "w4LhE-IAmCJQ"
   },
   "source": [
    "___\n",
    "<a id=\"download\"></a>\n",
    "## 1.&nbsp; Download Data\n",
    "\n",
    "We'll download the satellite images and a config yaml file from a Google Drive data dump.\n",
    "\n",
    "The yaml tells the YOLOv8 model where to find the data and what the classes are. In our case, there's only one class, solar panels."
   ]
  },
  {
   "cell_type": "code",
   "execution_count": null,
   "metadata": {
    "colab": {
     "base_uri": "https://localhost:8080/"
    },
    "executionInfo": {
     "elapsed": 24790,
     "status": "ok",
     "timestamp": 1710493631100,
     "user": {
      "displayName": "solar",
      "userId": "07318993727761992414"
     },
     "user_tz": -60
    },
    "id": "716CCwCJli2T",
    "outputId": "08732679-413d-48bc-aed0-d46ffe1d4888"
   },
   "outputs": [
    {
     "name": "stdout",
     "output_type": "stream",
     "text": [
      "Mounted at /content/drive\n"
     ]
    }
   ],
   "source": [
    "from google.colab import drive\n",
    "drive.mount('/content/drive')"
   ]
  },
  {
   "cell_type": "code",
   "execution_count": null,
   "metadata": {
    "colab": {
     "base_uri": "https://localhost:8080/"
    },
    "executionInfo": {
     "elapsed": 1239,
     "status": "ok",
     "timestamp": 1710493632334,
     "user": {
      "displayName": "solar",
      "userId": "07318993727761992414"
     },
     "user_tz": -60
    },
    "id": "FaHBRocTajcc",
    "outputId": "bef8c5bf-2873-4a02-d4f2-90aa9c6e4989"
   },
   "outputs": [],
   "source": [
    "# Download kasmi_solar_detection.yaml config file.\n",
    "!gdown #insert your file id here\n",
    "\n",
    "# Insert the respective file ID here. To get it,\n",
    "# go on your Google Drive > right click on 'kasmi_solar_detection.yaml' > Share > Copy link.\n",
    "# The link will look something like:\n",
    "# https://drive.google.com/file/d/<your_file_ID_here>/"
   ]
  },
  {
   "cell_type": "markdown",
   "metadata": {
    "id": "d3WgJBeWmPjO"
   },
   "source": [
    "Next, download the satellite images from a data-dump Drive."
   ]
  },
  {
   "cell_type": "code",
   "execution_count": null,
   "metadata": {
    "colab": {
     "base_uri": "https://localhost:8080/"
    },
    "executionInfo": {
     "elapsed": 12924,
     "status": "ok",
     "timestamp": 1710493645255,
     "user": {
      "displayName": "solar",
      "userId": "07318993727761992414"
     },
     "user_tz": -60
    },
    "id": "n8pZ8sqYcUSg",
    "outputId": "d2092a1b-f26e-4905-ce16-fc888eda24ab"
   },
   "outputs": [],
   "source": [
    "# Download zipped training data folder.\n",
    "!gdown #insert your file id here"
   ]
  },
  {
   "cell_type": "code",
   "execution_count": null,
   "metadata": {
    "colab": {
     "base_uri": "https://localhost:8080/"
    },
    "executionInfo": {
     "elapsed": 344,
     "status": "ok",
     "timestamp": 1710493895850,
     "user": {
      "displayName": "solar",
      "userId": "07318993727761992414"
     },
     "user_tz": -60
    },
    "id": "d1Tb62xCYALN",
    "outputId": "3e73e8dc-316e-4a2b-b6cb-879093959e59"
   },
   "outputs": [],
   "source": [
    "# Display current path on Google Colab Machine.\n",
    "%pwd\n",
    "# Current path is '/content'.\n",
    "\n",
    "# YOLOv8 expects the data folder to be contained in a directory called 'content/datasets/'.\n",
    "!mkdir /content/datasets/\n"
   ]
  },
  {
   "cell_type": "code",
   "execution_count": null,
   "metadata": {
    "colab": {
     "base_uri": "https://localhost:8080/",
     "height": 35
    },
    "executionInfo": {
     "elapsed": 529,
     "status": "ok",
     "timestamp": 1710493993894,
     "user": {
      "displayName": "solar",
      "userId": "07318993727761992414"
     },
     "user_tz": -60
    },
    "id": "n2qOX91M0HeH",
    "outputId": "1ed7205e-9731-4b32-f932-27b548cae894"
   },
   "outputs": [
    {
     "data": {
      "application/vnd.google.colaboratory.intrinsic+json": {
       "type": "string"
      },
      "text/plain": [
       "'/content'"
      ]
     },
     "execution_count": 22,
     "metadata": {},
     "output_type": "execute_result"
    }
   ],
   "source": [
    "# Unzip training data to that directory.\n",
    "!unzip kasmi_solar_detection.zip -d /content/datasets/kasmi_solar_detection"
   ]
  },
  {
   "cell_type": "markdown",
   "metadata": {
    "id": "n1yTWXnXnFPy"
   },
   "source": [
    "Check hardware and directory structure. Make sure a GPU is being used for model training."
   ]
  },
  {
   "cell_type": "code",
   "execution_count": null,
   "metadata": {
    "colab": {
     "base_uri": "https://localhost:8080/"
    },
    "executionInfo": {
     "elapsed": 528,
     "status": "ok",
     "timestamp": 1710493980260,
     "user": {
      "displayName": "solar",
      "userId": "07318993727761992414"
     },
     "user_tz": -60
    },
    "id": "Diw438NusNSV",
    "outputId": "f7d7e72e-06a5-4344-ab6a-85844d79b115"
   },
   "outputs": [
    {
     "name": "stdout",
     "output_type": "stream",
     "text": [
      "Ultralytics YOLOv8.1.28 🚀 Python-3.10.12 torch-2.2.1+cu121 CUDA:0 (Tesla T4, 15102MiB)\n",
      "Setup complete ✅ (2 CPUs, 12.7 GB RAM, 33.5/78.2 GB disk)\n"
     ]
    }
   ],
   "source": [
    "ultralytics.checks()"
   ]
  },
  {
   "cell_type": "code",
   "execution_count": null,
   "metadata": {
    "id": "8u11t_OB4nKL"
   },
   "outputs": [],
   "source": [
    "# Name of the dataset.\n",
    "dataset_name = \"kasmi_solar\""
   ]
  },
  {
   "cell_type": "markdown",
   "metadata": {
    "id": "wBI7ooWcoMdf"
   },
   "source": [
    "___\n",
    "<a id=\"training\"></a>\n",
    "## 2.&nbsp; Model Training\n",
    "\n",
    "Here we'll load a pretrained YOLOv8 model (small, medium or large) and train it on the solar panel satellite data. Subsequently, we'll check its performance on the validation set."
   ]
  },
  {
   "cell_type": "code",
   "execution_count": null,
   "metadata": {
    "colab": {
     "base_uri": "https://localhost:8080/"
    },
    "executionInfo": {
     "elapsed": 2694,
     "status": "ok",
     "timestamp": 1710493728678,
     "user": {
      "displayName": "solar",
      "userId": "07318993727761992414"
     },
     "user_tz": -60
    },
    "id": "u4BY9Bgr0mpL",
    "outputId": "aab1734c-5622-4f3f-ee78-1e37d17731dc"
   },
   "outputs": [],
   "source": [
    "# Load a COCO-pretrained YOLOv8m model.\n",
    "model_name = 'yolov8l'\n",
    "model = YOLO(f'{model_name}.pt')"
   ]
  },
  {
   "cell_type": "code",
   "execution_count": null,
   "metadata": {
    "colab": {
     "base_uri": "https://localhost:8080/"
    },
    "id": "p0XoIZ5HsNSW",
    "outputId": "6e15c002-d35d-4c13-8c50-38a73b7bc86b"
   },
   "outputs": [],
   "source": [
    "# Train the model on our custom dataset.\n",
    "config_file = f'{dataset_name}_detection.yaml'\n",
    "epochs = 20\n",
    "img_size = 400\n",
    "experiment = f'{model_name}_{epochs}'\n",
    "device = 0 if torch.cuda.is_available() else \"cpu\" # device agnostic code\n",
    "\n",
    "results = model.train(data=config_file, epochs=epochs, imgsz=img_size, name=experiment, device=device)"
   ]
  },
  {
   "cell_type": "code",
   "execution_count": null,
   "metadata": {
    "id": "VlCVlUbSsNSW"
   },
   "outputs": [],
   "source": [
    "# Validate the model.\n",
    "metrics = model.val(data=config_file, epochs=epochs, imgsz=img_size, name=experiment, device=device)  # no arguments needed, dataset and settings remembered\n",
    "\n",
    "metrics.box.map    # map50-95(B)\n",
    "metrics.box.map50  # map50(B)\n",
    "metrics.box.map75  # map75(B)\n",
    "metrics.box.maps   # a list contains map50-95(B) of each category"
   ]
  },
  {
   "cell_type": "markdown",
   "metadata": {
    "id": "4s_v1MFarvfh"
   },
   "source": [
    "___\n",
    "<a id=\"export\"></a>\n",
    "## 3.&nbsp; Export Model Weights"
   ]
  },
  {
   "cell_type": "code",
   "execution_count": null,
   "metadata": {
    "id": "k-Gel-0Brwjs"
   },
   "outputs": [],
   "source": [
    "# Load the custom trained model.\n",
    "path_to_best = f\"runs/detect/{experiment}/weights/best.pt\" # .pt = PyTorch model\n",
    "model = YOLO(path_to_best)\n",
    "\n",
    "# Export the model. The default format is 'torchscript' (PyTorch).\n",
    "model.export()"
   ]
  },
  {
   "cell_type": "code",
   "execution_count": null,
   "metadata": {},
   "outputs": [],
   "source": [
    "# Download trained model.\n",
    "files.download(f\"runs/detect/{experiment}/weights/best.torchscript\")"
   ]
  },
  {
   "cell_type": "code",
   "execution_count": null,
   "metadata": {
    "id": "BVX7RJd5XIP0"
   },
   "outputs": [],
   "source": [
    "# Specify the output path for the ZIP archive for the training output.\n",
    "output_path = f\"models/training_data_{experiment}\"\n",
    "print(output_path)\n",
    "\n",
    "shutil.make_archive(output_path, 'zip', f\"/content/runs/detect/{experiment}\")"
   ]
  },
  {
   "cell_type": "code",
   "execution_count": null,
   "metadata": {
    "id": "Ti6OdhjBeW1o"
   },
   "outputs": [],
   "source": [
    "# Download training data.\n",
    "files.download(f\"models/training_data_{experiment}.zip\")"
   ]
  },
  {
   "cell_type": "code",
   "execution_count": null,
   "metadata": {
    "id": "7xNKsG1q6Y3H"
   },
   "outputs": [],
   "source": [
    "# Specify the output path for the ZIP archive for the evaluation data.\n",
    "output_path = f\"models/evaluation_data_{experiment}\"\n",
    "print(output_path)\n",
    "\n",
    "shutil.make_archive(output_path, 'zip', f\"/content/runs/detect/{experiment}\")"
   ]
  },
  {
   "cell_type": "code",
   "execution_count": null,
   "metadata": {
    "id": "IkWOBvE-5k3x"
   },
   "outputs": [],
   "source": [
    "# Download evaluation data.\n",
    "files.download(f\"models/evaluation_data_{experiment}.zip\")"
   ]
  }
 ],
 "metadata": {
  "accelerator": "GPU",
  "colab": {
   "gpuType": "T4",
   "provenance": [
    {
     "file_id": "1m9fBBtX-9EA532xUJMBnjfi7xgkKZSoW",
     "timestamp": 1704385255559
    }
   ]
  },
  "kernelspec": {
   "display_name": "Python 3 (ipykernel)",
   "language": "python",
   "name": "python3"
  },
  "language_info": {
   "codemirror_mode": {
    "name": "ipython",
    "version": 3
   },
   "file_extension": ".py",
   "mimetype": "text/x-python",
   "name": "python",
   "nbconvert_exporter": "python",
   "pygments_lexer": "ipython3",
   "version": "3.13.2"
  }
 },
 "nbformat": 4,
 "nbformat_minor": 4
}
